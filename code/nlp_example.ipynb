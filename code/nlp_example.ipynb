{
 "cells": [
  {
   "cell_type": "code",
   "execution_count": 1,
   "metadata": {},
   "outputs": [],
   "source": [
    "# import libraries\n",
    "from sklearn.feature_extraction.text import TfidfVectorizer, CountVectorizer\n",
    "from sklearn.base import BaseEstimator, TransformerMixin\n",
    "from sklearn.model_selection import train_test_split\n",
    "from sklearn.ensemble import RandomForestClassifier\n",
    "from sklearn.pipeline import Pipeline, FeatureUnion\n",
    "from sklearn import metrics\n",
    "import pandas as pd"
   ]
  },
  {
   "cell_type": "code",
   "execution_count": 2,
   "metadata": {},
   "outputs": [],
   "source": [
    "# text and numeric classes that use sklearn base libaries\n",
    "class TextTransformer(BaseEstimator, TransformerMixin):\n",
    "    \"\"\"\n",
    "    Transform text features\n",
    "    \"\"\"\n",
    "    def __init__(self, key):\n",
    "        self.key = key\n",
    "\n",
    "    def fit(self, X, y=None, *parg, **kwarg):\n",
    "        return self\n",
    "\n",
    "    def transform(self, X):\n",
    "        return X[self.key]\n",
    "    \n",
    "class NumberTransformer(BaseEstimator, TransformerMixin):\n",
    "    \"\"\"\n",
    "    Transform numeric features\n",
    "    \"\"\"\n",
    "    def __init__(self, key):\n",
    "        self.key = key\n",
    "\n",
    "    def fit(self, X, y=None):\n",
    "        return self\n",
    "\n",
    "    def transform(self, X):\n",
    "        return X[[self.key]]"
   ]
  },
  {
   "cell_type": "code",
   "execution_count": 3,
   "metadata": {},
   "outputs": [],
   "source": [
    "# read in your dataframe\n",
    "df = pd.read_csv('/Users/MatthewPrzybyla/Downloads/NLP/nlp-example/data/DummyDataNLP.csv')"
   ]
  },
  {
   "cell_type": "code",
   "execution_count": 4,
   "metadata": {},
   "outputs": [
    {
     "output_type": "execute_result",
     "data": {
      "text/plain": "   Confirmed_Test  Confirmed_Recovery  Confirmed_New Text_Feature  \\\n0       36.434962           82.983704      34.824456         Blue   \n1       75.349163           81.735731      71.921676          Red   \n2       76.678489           33.588094      14.124835       Yellow   \n3       73.356221           79.441778      56.910324       Orange   \n4       74.451946           59.228624      20.042376         Blue   \n\n  Text_Predictor  \n0        Label_1  \n1        Label_2  \n2        Label_3  \n3        Label_1  \n4        Label_2  ",
      "text/html": "<div>\n<style>\n    .dataframe thead tr:only-child th {\n        text-align: right;\n    }\n\n    .dataframe thead th {\n        text-align: left;\n    }\n\n    .dataframe tbody tr th {\n        vertical-align: top;\n    }\n</style>\n<table border=\"1\" class=\"dataframe\">\n  <thead>\n    <tr style=\"text-align: right;\">\n      <th></th>\n      <th>Confirmed_Test</th>\n      <th>Confirmed_Recovery</th>\n      <th>Confirmed_New</th>\n      <th>Text_Feature</th>\n      <th>Text_Predictor</th>\n    </tr>\n  </thead>\n  <tbody>\n    <tr>\n      <th>0</th>\n      <td>36.434962</td>\n      <td>82.983704</td>\n      <td>34.824456</td>\n      <td>Blue</td>\n      <td>Label_1</td>\n    </tr>\n    <tr>\n      <th>1</th>\n      <td>75.349163</td>\n      <td>81.735731</td>\n      <td>71.921676</td>\n      <td>Red</td>\n      <td>Label_2</td>\n    </tr>\n    <tr>\n      <th>2</th>\n      <td>76.678489</td>\n      <td>33.588094</td>\n      <td>14.124835</td>\n      <td>Yellow</td>\n      <td>Label_3</td>\n    </tr>\n    <tr>\n      <th>3</th>\n      <td>73.356221</td>\n      <td>79.441778</td>\n      <td>56.910324</td>\n      <td>Orange</td>\n      <td>Label_1</td>\n    </tr>\n    <tr>\n      <th>4</th>\n      <td>74.451946</td>\n      <td>59.228624</td>\n      <td>20.042376</td>\n      <td>Blue</td>\n      <td>Label_2</td>\n    </tr>\n  </tbody>\n</table>\n</div>"
     },
     "metadata": {},
     "execution_count": 4
    }
   ],
   "source": [
    "# take a look at the first 5 observations\n",
    "df.head()"
   ]
  },
  {
   "cell_type": "code",
   "execution_count": 5,
   "metadata": {},
   "outputs": [],
   "source": [
    "# use the term-frequency inverse document frequency vectorizer to transfrom count of text\n",
    "# into a weighed matrix of term importance\n",
    "vec_tdidf = TfidfVectorizer(ngram_range=(1,1), analyzer='word', norm='l2')"
   ]
  },
  {
   "cell_type": "code",
   "execution_count": 6,
   "metadata": {},
   "outputs": [],
   "source": [
    "# compile both the TextTransformer and TfidfVectorizer \n",
    "# to the text 'Text_Feature' \n",
    "color_text = Pipeline([\n",
    "                ('transformer', TextTransformer(key='Text_Feature')),\n",
    "                ('vectorizer', vec_tdidf)\n",
    "                ])"
   ]
  },
  {
   "cell_type": "code",
   "execution_count": 7,
   "metadata": {},
   "outputs": [],
   "source": [
    "# compile the NumberTransformer to 'Confirmed_Test', 'Confirmed_Recovery', \n",
    "# and 'Confirmed_New' numeric features\n",
    "test_numeric = Pipeline([\n",
    "                ('transformer', NumberTransformer(key='Confirmed_Test')),\n",
    "                ])\n",
    "recovery_numeric = Pipeline([\n",
    "                ('transformer', NumberTransformer(key='Confirmed_Recovery')),\n",
    "                ])\n",
    "new_numeric = Pipeline([\n",
    "                ('transformer', NumberTransformer(key='Confirmed_New')),\n",
    "                ])"
   ]
  },
  {
   "cell_type": "code",
   "execution_count": 8,
   "metadata": {},
   "outputs": [],
   "source": [
    "# combine all of the features, text and numeric together\n",
    "features = FeatureUnion([('Text_Feature', color_text),\n",
    "                      ('Confirmed_Test', test_numeric),\n",
    "                      ('Confirmed_Recovery', recovery_numeric),\n",
    "                      ('Confirmed_New', new_numeric)\n",
    "                      ])"
   ]
  },
  {
   "cell_type": "code",
   "execution_count": 9,
   "metadata": {},
   "outputs": [],
   "source": [
    "# create the classfier from RF\n",
    "clf = RandomForestClassifier()"
   ]
  },
  {
   "cell_type": "code",
   "execution_count": 10,
   "metadata": {},
   "outputs": [],
   "source": [
    "# unite the features and classfier together\n",
    "pipe = Pipeline([('features', features),\n",
    "                 ('clf',clf)\n",
    "                 ])"
   ]
  },
  {
   "cell_type": "code",
   "execution_count": 11,
   "metadata": {},
   "outputs": [],
   "source": [
    "# transform the categorical predictor into numeric\n",
    "predicted_dummies = pd.get_dummies(df['Text_Predictor'])"
   ]
  },
  {
   "cell_type": "code",
   "execution_count": 12,
   "metadata": {},
   "outputs": [],
   "source": [
    "# split the data into train and test\n",
    "# isolate the features from the predicted field\n",
    "text_numeric_features = ['Text_Feature', 'Confirmed_Test', 'Confirmed_Recovery', 'Confirmed_New']\n",
    "predictor = 'Text_Predictor'\n",
    "\n",
    "X_train, X_test, y_train, y_test = train_test_split(df[text_numeric_features], df[predictor], \n",
    "                                                    test_size=0.25, random_state=42)"
   ]
  },
  {
   "cell_type": "code",
   "execution_count": 13,
   "metadata": {},
   "outputs": [
    {
     "output_type": "execute_result",
     "data": {
      "text/plain": "Pipeline(memory=None,\n     steps=[('features', FeatureUnion(n_jobs=None,\n       transformer_list=[('Text_Feature', Pipeline(memory=None,\n     steps=[('transformer', TextTransformer(key='Text_Feature')), ('vectorizer', TfidfVectorizer(analyzer='word', binary=False, decode_error='strict',\n        dtype=<class 'numpy.float64'>, ...obs=None,\n            oob_score=False, random_state=None, verbose=0,\n            warm_start=False))])"
     },
     "metadata": {},
     "execution_count": 13
    }
   ],
   "source": [
    "# fit the model\n",
    "pipe.fit(X_train, y_train)"
   ]
  },
  {
   "cell_type": "code",
   "execution_count": 14,
   "metadata": {},
   "outputs": [],
   "source": [
    "# predict from the test set\n",
    "preds = pipe.predict(X_test)"
   ]
  },
  {
   "cell_type": "code",
   "execution_count": 15,
   "metadata": {},
   "outputs": [
    {
     "output_type": "stream",
     "name": "stdout",
     "text": "Accuracy: 0.47368421052631576\n"
    }
   ],
   "source": [
    "# see how you did, since this is randomly generated data,\n",
    "# I would say this accuracy is pretty good :D\n",
    "print(\"Accuracy:\",metrics.accuracy_score(y_test, preds))"
   ]
  }
 ],
 "metadata": {
  "kernelspec": {
   "display_name": "Python 3",
   "language": "python",
   "name": "python3"
  },
  "language_info": {
   "codemirror_mode": {
    "name": "ipython",
    "version": 3
   },
   "file_extension": ".py",
   "mimetype": "text/x-python",
   "name": "python",
   "nbconvert_exporter": "python",
   "pygments_lexer": "ipython3",
   "version": "3.7.6-final"
  }
 },
 "nbformat": 4,
 "nbformat_minor": 4
}